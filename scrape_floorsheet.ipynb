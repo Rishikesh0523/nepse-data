{
 "cells": [
  {
   "cell_type": "code",
   "execution_count": 1,
   "metadata": {},
   "outputs": [],
   "source": [
    "from selenium import webdriver\n",
    "from datetime import datetime\n",
    "from bs4 import BeautifulSoup\n",
    "import pandas as pd\n",
    "from selenium.common.exceptions import NoSuchElementException\n",
    "from selenium.webdriver.chrome.options import Options"
   ]
  },
  {
   "cell_type": "code",
   "execution_count": 7,
   "metadata": {},
   "outputs": [],
   "source": [
    "def search(driver, date):\n",
    "    \"\"\"\n",
    "    Date in mm/dd/yyyy\n",
    "    \"\"\"\n",
    "    driver.get(\"https://merolagani.com/Floorsheet.aspx\")\n",
    "    date_input = driver.find_element_by_xpath('/html/body/form/div[4]/div[4]/div/div/div[1]/div[4]/input')\n",
    "    search_btn = driver.find_element_by_xpath('/html/body/form/div[4]/div[4]/div/div/div[2]/a[1]')\n",
    "    date_input.send_keys(date)\n",
    "    search_btn.click()\n",
    "    try:\n",
    "        no_data_div = driver.find_element_by_id(\"ctl00_ContentPlaceHolder1_divNoData\")\n",
    "    except NoSuchElementException:\n",
    "        print(\"No data found for the given search.\")\n",
    "        print(\"Aborting script ......\")\n",
    "        exit()"
   ]
  },
  {
   "cell_type": "code",
   "execution_count": 3,
   "metadata": {},
   "outputs": [],
   "source": [
    "def get_page_table(driver, table_class):\n",
    "    soup = BeautifulSoup(driver.page_source,'html')\n",
    "    table = soup.find(\"table\", {\"class\":table_class})\n",
    "    tab_data = [[cell.text.replace('\\r', '').replace('\\n', '') for cell in row.find_all([\"th\",\"td\"])]\n",
    "                        for row in table.find_all(\"tr\")]\n",
    "    df = pd.DataFrame(tab_data)\n",
    "    return df"
   ]
  },
  {
   "cell_type": "code",
   "execution_count": 4,
   "metadata": {},
   "outputs": [],
   "source": [
    "def scrape_data(driver, date):\n",
    "    start_time = datetime.now()\n",
    "    search(driver, date = date)\n",
    "    df = pd.DataFrame()\n",
    "    while True:\n",
    "        page_table_df = get_page_table(driver, table_class=\"table table-bordered table-striped table-hover sortable\")\n",
    "        df = df.append(page_table_df, ignore_index = True)\n",
    "        try:\n",
    "            next_btn = driver.find_element_by_link_text('Next')\n",
    "            driver.execute_script(\"arguments[0].click();\", next_btn)\n",
    "        except NoSuchElementException:\n",
    "            break\n",
    "    print(f\"Time taken to scrape: {datetime.now() - start_time}\")    \n",
    "    return df"
   ]
  },
  {
   "cell_type": "code",
   "execution_count": 5,
   "metadata": {},
   "outputs": [],
   "source": [
    "def clean_df(df):\n",
    "    new_df = df.drop_duplicates(keep='first') # Dropping Duplicates\n",
    "    new_header = new_df.iloc[0] # grabing the first row for the header\n",
    "    new_df = new_df[1:] # taking the data lower than the header row\n",
    "    new_df.columns = new_header # setting the header row as the df header\n",
    "    new_df.drop([\"#\"], axis=1, inplace=True)\n",
    "    new_df[\"Rate\"] = new_df[\"Rate\"].apply(lambda x:float(x.replace(\",\", \"\"))) # Convert Rate to Float\n",
    "    new_df[\"Amount\"] = new_df[\"Amount\"].apply(lambda x:float(x.replace(\",\", \"\"))) # Convert Amount to Float\n",
    "    return new_df"
   ]
  },
  {
   "cell_type": "code",
   "execution_count": 8,
   "metadata": {},
   "outputs": [
    {
     "name": "stderr",
     "output_type": "stream",
     "text": [
      "/home/suyog/anaconda3/lib/python3.7/site-packages/ipykernel_launcher.py:3: DeprecationWarning: use options instead of chrome_options\n",
      "  This is separate from the ipykernel package so we can avoid doing imports until\n"
     ]
    },
    {
     "name": "stdout",
     "output_type": "stream",
     "text": [
      "No data found for the given search.\n",
      "Aborting script ......\n"
     ]
    },
    {
     "ename": "AttributeError",
     "evalue": "'NoneType' object has no attribute 'find_all'",
     "output_type": "error",
     "traceback": [
      "\u001b[0;31m---------------------------------------------------------------------------\u001b[0m",
      "\u001b[0;31mAttributeError\u001b[0m                            Traceback (most recent call last)",
      "\u001b[0;32m<ipython-input-8-a83fe69be90b>\u001b[0m in \u001b[0;36m<module>\u001b[0;34m\u001b[0m\n\u001b[1;32m      5\u001b[0m \u001b[0mdate\u001b[0m \u001b[0;34m=\u001b[0m \u001b[0mdatetime\u001b[0m\u001b[0;34m.\u001b[0m\u001b[0mtoday\u001b[0m\u001b[0;34m(\u001b[0m\u001b[0;34m)\u001b[0m\u001b[0;34m.\u001b[0m\u001b[0mstrftime\u001b[0m\u001b[0;34m(\u001b[0m\u001b[0;34m'%m/%d/%Y'\u001b[0m\u001b[0;34m)\u001b[0m \u001b[0;31m# Get today's date\u001b[0m\u001b[0;34m\u001b[0m\u001b[0;34m\u001b[0m\u001b[0m\n\u001b[1;32m      6\u001b[0m \u001b[0msearch\u001b[0m\u001b[0;34m(\u001b[0m\u001b[0mdriver\u001b[0m\u001b[0;34m,\u001b[0m \u001b[0mdate\u001b[0m\u001b[0;34m)\u001b[0m \u001b[0;31m# Search the webpage\u001b[0m\u001b[0;34m\u001b[0m\u001b[0;34m\u001b[0m\u001b[0m\n\u001b[0;32m----> 7\u001b[0;31m \u001b[0mdf\u001b[0m \u001b[0;34m=\u001b[0m \u001b[0mscrape_data\u001b[0m\u001b[0;34m(\u001b[0m\u001b[0mdriver\u001b[0m\u001b[0;34m,\u001b[0m \u001b[0mdate\u001b[0m\u001b[0;34m)\u001b[0m \u001b[0;31m# Scraping\u001b[0m\u001b[0;34m\u001b[0m\u001b[0;34m\u001b[0m\u001b[0m\n\u001b[0m\u001b[1;32m      8\u001b[0m \u001b[0mfinal_df\u001b[0m \u001b[0;34m=\u001b[0m \u001b[0mclean_df\u001b[0m\u001b[0;34m(\u001b[0m\u001b[0mdf\u001b[0m\u001b[0;34m)\u001b[0m \u001b[0;31m# Cleaning\u001b[0m\u001b[0;34m\u001b[0m\u001b[0;34m\u001b[0m\u001b[0m\n",
      "\u001b[0;32m<ipython-input-4-8eeebab50159>\u001b[0m in \u001b[0;36mscrape_data\u001b[0;34m(driver, date)\u001b[0m\n\u001b[1;32m      4\u001b[0m     \u001b[0mdf\u001b[0m \u001b[0;34m=\u001b[0m \u001b[0mpd\u001b[0m\u001b[0;34m.\u001b[0m\u001b[0mDataFrame\u001b[0m\u001b[0;34m(\u001b[0m\u001b[0;34m)\u001b[0m\u001b[0;34m\u001b[0m\u001b[0;34m\u001b[0m\u001b[0m\n\u001b[1;32m      5\u001b[0m     \u001b[0;32mwhile\u001b[0m \u001b[0;32mTrue\u001b[0m\u001b[0;34m:\u001b[0m\u001b[0;34m\u001b[0m\u001b[0;34m\u001b[0m\u001b[0m\n\u001b[0;32m----> 6\u001b[0;31m         \u001b[0mpage_table_df\u001b[0m \u001b[0;34m=\u001b[0m \u001b[0mget_page_table\u001b[0m\u001b[0;34m(\u001b[0m\u001b[0mdriver\u001b[0m\u001b[0;34m,\u001b[0m \u001b[0mtable_class\u001b[0m\u001b[0;34m=\u001b[0m\u001b[0;34m\"table table-bordered table-striped table-hover sortable\"\u001b[0m\u001b[0;34m)\u001b[0m\u001b[0;34m\u001b[0m\u001b[0;34m\u001b[0m\u001b[0m\n\u001b[0m\u001b[1;32m      7\u001b[0m         \u001b[0mdf\u001b[0m \u001b[0;34m=\u001b[0m \u001b[0mdf\u001b[0m\u001b[0;34m.\u001b[0m\u001b[0mappend\u001b[0m\u001b[0;34m(\u001b[0m\u001b[0mpage_table_df\u001b[0m\u001b[0;34m,\u001b[0m \u001b[0mignore_index\u001b[0m \u001b[0;34m=\u001b[0m \u001b[0;32mTrue\u001b[0m\u001b[0;34m)\u001b[0m\u001b[0;34m\u001b[0m\u001b[0;34m\u001b[0m\u001b[0m\n\u001b[1;32m      8\u001b[0m         \u001b[0;32mtry\u001b[0m\u001b[0;34m:\u001b[0m\u001b[0;34m\u001b[0m\u001b[0;34m\u001b[0m\u001b[0m\n",
      "\u001b[0;32m<ipython-input-3-58b6496b3ba7>\u001b[0m in \u001b[0;36mget_page_table\u001b[0;34m(driver, table_class)\u001b[0m\n\u001b[1;32m      3\u001b[0m     \u001b[0mtable\u001b[0m \u001b[0;34m=\u001b[0m \u001b[0msoup\u001b[0m\u001b[0;34m.\u001b[0m\u001b[0mfind\u001b[0m\u001b[0;34m(\u001b[0m\u001b[0;34m\"table\"\u001b[0m\u001b[0;34m,\u001b[0m \u001b[0;34m{\u001b[0m\u001b[0;34m\"class\"\u001b[0m\u001b[0;34m:\u001b[0m\u001b[0mtable_class\u001b[0m\u001b[0;34m}\u001b[0m\u001b[0;34m)\u001b[0m\u001b[0;34m\u001b[0m\u001b[0;34m\u001b[0m\u001b[0m\n\u001b[1;32m      4\u001b[0m     tab_data = [[cell.text.replace('\\r', '').replace('\\n', '') for cell in row.find_all([\"th\",\"td\"])]\n\u001b[0;32m----> 5\u001b[0;31m                         for row in table.find_all(\"tr\")]\n\u001b[0m\u001b[1;32m      6\u001b[0m     \u001b[0mdf\u001b[0m \u001b[0;34m=\u001b[0m \u001b[0mpd\u001b[0m\u001b[0;34m.\u001b[0m\u001b[0mDataFrame\u001b[0m\u001b[0;34m(\u001b[0m\u001b[0mtab_data\u001b[0m\u001b[0;34m)\u001b[0m\u001b[0;34m\u001b[0m\u001b[0;34m\u001b[0m\u001b[0m\n\u001b[1;32m      7\u001b[0m     \u001b[0;32mreturn\u001b[0m \u001b[0mdf\u001b[0m\u001b[0;34m\u001b[0m\u001b[0;34m\u001b[0m\u001b[0m\n",
      "\u001b[0;31mAttributeError\u001b[0m: 'NoneType' object has no attribute 'find_all'"
     ]
    }
   ],
   "source": [
    "options = Options()\n",
    "options.headless = True\n",
    "driver = webdriver.Chrome(chrome_options=options) # Start Browser\n",
    "\n",
    "date = datetime.today().strftime('%m/%d/%Y') # Get today's date\n",
    "search(driver, date) # Search the webpage\n",
    "df = scrape_data(driver, date) # Scraping\n",
    "final_df = clean_df(df) # Cleaning"
   ]
  },
  {
   "cell_type": "code",
   "execution_count": 7,
   "metadata": {},
   "outputs": [
    {
     "data": {
      "text/html": [
       "<div>\n",
       "<style scoped>\n",
       "    .dataframe tbody tr th:only-of-type {\n",
       "        vertical-align: middle;\n",
       "    }\n",
       "\n",
       "    .dataframe tbody tr th {\n",
       "        vertical-align: top;\n",
       "    }\n",
       "\n",
       "    .dataframe thead th {\n",
       "        text-align: right;\n",
       "    }\n",
       "</style>\n",
       "<table border=\"1\" class=\"dataframe\">\n",
       "  <thead>\n",
       "    <tr style=\"text-align: right;\">\n",
       "      <th></th>\n",
       "      <th>Transact. No.</th>\n",
       "      <th>Symbol</th>\n",
       "      <th>Buyer</th>\n",
       "      <th>Seller</th>\n",
       "      <th>Quantity</th>\n",
       "      <th>Rate</th>\n",
       "      <th>Amount</th>\n",
       "    </tr>\n",
       "  </thead>\n",
       "  <tbody>\n",
       "    <tr>\n",
       "      <th>1</th>\n",
       "      <td>2020121604001499</td>\n",
       "      <td>BBC</td>\n",
       "      <td>45</td>\n",
       "      <td>34</td>\n",
       "      <td>10</td>\n",
       "      <td>2793.0</td>\n",
       "      <td>27930.0</td>\n",
       "    </tr>\n",
       "    <tr>\n",
       "      <th>2</th>\n",
       "      <td>2020121604001489</td>\n",
       "      <td>BBC</td>\n",
       "      <td>57</td>\n",
       "      <td>33</td>\n",
       "      <td>10</td>\n",
       "      <td>2793.0</td>\n",
       "      <td>27930.0</td>\n",
       "    </tr>\n",
       "    <tr>\n",
       "      <th>3</th>\n",
       "      <td>2020121604001468</td>\n",
       "      <td>BBC</td>\n",
       "      <td>49</td>\n",
       "      <td>34</td>\n",
       "      <td>10</td>\n",
       "      <td>2800.0</td>\n",
       "      <td>28000.0</td>\n",
       "    </tr>\n",
       "    <tr>\n",
       "      <th>4</th>\n",
       "      <td>2020121604001437</td>\n",
       "      <td>BBC</td>\n",
       "      <td>14</td>\n",
       "      <td>34</td>\n",
       "      <td>20</td>\n",
       "      <td>2800.0</td>\n",
       "      <td>56000.0</td>\n",
       "    </tr>\n",
       "    <tr>\n",
       "      <th>5</th>\n",
       "      <td>2020121604001436</td>\n",
       "      <td>BBC</td>\n",
       "      <td>42</td>\n",
       "      <td>34</td>\n",
       "      <td>15</td>\n",
       "      <td>2800.0</td>\n",
       "      <td>42000.0</td>\n",
       "    </tr>\n",
       "  </tbody>\n",
       "</table>\n",
       "</div>"
      ],
      "text/plain": [
       "0     Transact. No. Symbol Buyer Seller Quantity    Rate   Amount\n",
       "1  2020121604001499    BBC    45     34       10  2793.0  27930.0\n",
       "2  2020121604001489    BBC    57     33       10  2793.0  27930.0\n",
       "3  2020121604001468    BBC    49     34       10  2800.0  28000.0\n",
       "4  2020121604001437    BBC    14     34       20  2800.0  56000.0\n",
       "5  2020121604001436    BBC    42     34       15  2800.0  42000.0"
      ]
     },
     "execution_count": 7,
     "metadata": {},
     "output_type": "execute_result"
    }
   ],
   "source": [
    "final_df.head()"
   ]
  },
  {
   "cell_type": "code",
   "execution_count": 9,
   "metadata": {},
   "outputs": [],
   "source": [
    "file_name = date.replace(\"/\", \"_\")\n",
    "final_df.to_csv(f\"data/{file_name}.csv\", index=False) # Save file"
   ]
  },
  {
   "cell_type": "code",
   "execution_count": 9,
   "metadata": {},
   "outputs": [],
   "source": [
    "driver = webdriver.Chrome()\n",
    "date = datetime.today().strftime('%m/%d/%Y') # Get today's date\n",
    "search(driver, \"12/16/2020\")"
   ]
  }
 ],
 "metadata": {
  "kernelspec": {
   "display_name": "Python 3",
   "language": "python",
   "name": "python3"
  },
  "language_info": {
   "codemirror_mode": {
    "name": "ipython",
    "version": 3
   },
   "file_extension": ".py",
   "mimetype": "text/x-python",
   "name": "python",
   "nbconvert_exporter": "python",
   "pygments_lexer": "ipython3",
   "version": "3.7.6"
  }
 },
 "nbformat": 4,
 "nbformat_minor": 4
}
